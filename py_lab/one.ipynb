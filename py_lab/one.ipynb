{
 "cells": [
  {
   "cell_type": "code",
   "execution_count": 3,
   "metadata": {},
   "outputs": [
    {
     "ename": "FileNotFoundError",
     "evalue": "[Errno 2] No such file or directory: 'find1.csv'",
     "output_type": "error",
     "traceback": [
      "\u001b[1;31m---------------------------------------------------------------------------\u001b[0m",
      "\u001b[1;31mFileNotFoundError\u001b[0m                         Traceback (most recent call last)",
      "\u001b[1;32m<ipython-input-3-49086da3180e>\u001b[0m in \u001b[0;36m<module>\u001b[1;34m()\u001b[0m\n\u001b[0;32m      1\u001b[0m \u001b[1;32mimport\u001b[0m \u001b[0mcsv\u001b[0m\u001b[1;33m\u001b[0m\u001b[0m\n\u001b[0;32m      2\u001b[0m \u001b[0mhypo\u001b[0m\u001b[1;33m=\u001b[0m\u001b[1;33m[\u001b[0m\u001b[1;34m'%'\u001b[0m\u001b[1;33m,\u001b[0m\u001b[1;34m'%'\u001b[0m\u001b[1;33m,\u001b[0m\u001b[1;34m'%'\u001b[0m\u001b[1;33m,\u001b[0m\u001b[1;34m'%'\u001b[0m\u001b[1;33m,\u001b[0m\u001b[1;34m'%'\u001b[0m\u001b[1;33m,\u001b[0m\u001b[1;34m'%'\u001b[0m\u001b[1;33m]\u001b[0m\u001b[1;33m;\u001b[0m\u001b[1;33m\u001b[0m\u001b[0m\n\u001b[1;32m----> 3\u001b[1;33m \u001b[1;32mwith\u001b[0m \u001b[0mopen\u001b[0m\u001b[1;33m(\u001b[0m\u001b[1;34m'find1.csv'\u001b[0m\u001b[1;33m)\u001b[0m \u001b[1;32mas\u001b[0m \u001b[0mcsv_file\u001b[0m\u001b[1;33m:\u001b[0m\u001b[1;33m\u001b[0m\u001b[0m\n\u001b[0m\u001b[0;32m      4\u001b[0m     \u001b[0mreadcsv\u001b[0m \u001b[1;33m=\u001b[0m \u001b[0mcsv\u001b[0m\u001b[1;33m.\u001b[0m\u001b[0mreader\u001b[0m\u001b[1;33m(\u001b[0m\u001b[0mcsv_file\u001b[0m\u001b[1;33m,\u001b[0m \u001b[0mdelimiter\u001b[0m\u001b[1;33m=\u001b[0m\u001b[1;34m','\u001b[0m\u001b[1;33m)\u001b[0m\u001b[1;33m\u001b[0m\u001b[0m\n\u001b[0;32m      5\u001b[0m     \u001b[0mprint\u001b[0m\u001b[1;33m(\u001b[0m\u001b[0mreadcsv\u001b[0m\u001b[1;33m)\u001b[0m\u001b[1;33m\u001b[0m\u001b[0m\n",
      "\u001b[1;31mFileNotFoundError\u001b[0m: [Errno 2] No such file or directory: 'find1.csv'"
     ]
    }
   ],
   "source": [
    "import csv\n",
    "hypo=['%','%','%','%','%','%'];\n",
    "with open('finds1.csv') as csv_file:\n",
    "    readcsv = csv.reader(csv_file, delimiter=',')\n",
    "    print(readcsv)\n",
    "    data = []\n",
    "    print(\"\\nThe given training examples are:\")\n",
    "    for row in readcsv:\n",
    "        print(row)\n",
    "        if row[len(row)-1].upper() == \"YES\":\n",
    "            data.append(row)\n",
    "print(\"\\nThe positive examples are:\");\n",
    "for x in data:\n",
    "    print(x);\n",
    "print(\"\\n\");\n",
    "TotalExamples = len(data);\n",
    "i=0;\n",
    "j=0;\n",
    "k=0;\n",
    "print(\"The steps of the Find-s algorithm are\\n\",hypo);\n",
    "list = [];\n",
    "p=0;\n",
    "d=len(data[p])-1;\n",
    "for j in range(d):\n",
    "    list.append(data[i][j]);\n",
    "hypo=list;\n",
    "i=1;\n",
    "for i in range(TotalExamples):\n",
    "    for k in range(d):\n",
    "        if hypo[k]!=data[i][k]:\n",
    "            hypo[k]='?';\n",
    "            k=k+1;\n",
    "        else:\n",
    "            hypo[k];\n",
    "    print(hypo);\n",
    "i=i+1;\n",
    "print(\"\\nThe maximally specific Find-s hypothesis for the given training examples is\");\n",
    "list=[];\n",
    "for i in range(d):\n",
    "    list.append(hypo[i]);\n",
    "print(list);"
   ]
  },
  {
   "cell_type": "code",
   "execution_count": null,
   "metadata": {},
   "outputs": [],
   "source": []
  }
 ],
 "metadata": {
  "kernelspec": {
   "display_name": "Python 3",
   "language": "python",
   "name": "python3"
  },
  "language_info": {
   "codemirror_mode": {
    "name": "ipython",
    "version": 3
   },
   "file_extension": ".py",
   "mimetype": "text/x-python",
   "name": "python",
   "nbconvert_exporter": "python",
   "pygments_lexer": "ipython3",
   "version": "3.6.4"
  }
 },
 "nbformat": 4,
 "nbformat_minor": 2
}
